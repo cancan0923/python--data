{
 "cells": [
  {
   "cell_type": "markdown",
   "id": "8e9c9041-a635-4abb-9929-617bbf6e57e0",
   "metadata": {},
   "source": [
    "### 项目二 任务1 录入股票信息"
   ]
  },
  {
   "cell_type": "code",
   "execution_count": 2,
   "id": "c64f7305-f125-4475-b40d-27e534414abe",
   "metadata": {},
   "outputs": [
    {
     "name": "stdout",
     "output_type": "stream",
     "text": [
      "600000 2025-02-24 10.27 43741000 True\n"
     ]
    }
   ],
   "source": [
    "股票代码 = \"600000\"           # 字符串类型\n",
    "交易日 = \"2025-02-24\"        # 字符串类型\n",
    "开盘价 = 10.27               # 浮点型\n",
    "成交量 = 43741000            # 整型\n",
    "is_下跌 = True              # 布尔型\n",
    "print(股票代码,交易日,开盘价,成交量,is_下跌)"
   ]
  },
  {
   "cell_type": "markdown",
   "id": "bf03c279-db0b-4405-8c84-e525404642d5",
   "metadata": {},
   "source": [
    "### 项目二 任务2 计算单日涨跌"
   ]
  },
  {
   "cell_type": "code",
   "execution_count": 8,
   "id": "73138b81-2355-4f9e-b679-e616736914fd",
   "metadata": {},
   "outputs": [],
   "source": [
    "收盘价 = 10.21              # 浮点型 \n",
    "涨跌金额 = 收盘价 - 开盘价    # 浮点数据精度问题"
   ]
  },
  {
   "cell_type": "code",
   "execution_count": 9,
   "id": "540a8c33-4386-4995-aa28-515492fad99f",
   "metadata": {},
   "outputs": [],
   "source": [
    "a = round(收盘价 - 开盘价,2)   # round（）函数“四舍六入五考虑”原则，解决浮点数据精度问题"
   ]
  },
  {
   "cell_type": "code",
   "execution_count": 10,
   "id": "1bfffa59-ea84-41a0-8578-813a3edcf414",
   "metadata": {},
   "outputs": [],
   "source": [
    "b = round((涨跌金额 / 开盘价) * 100, 2)      # 百分比计算"
   ]
  },
  {
   "cell_type": "code",
   "execution_count": 11,
   "id": "743a1a67-4922-4822-ba9f-1dcb386399e1",
   "metadata": {},
   "outputs": [
    {
     "name": "stdout",
     "output_type": "stream",
     "text": [
      "今日盈亏金额： -0.06 元\n",
      "今日涨跌幅： -0.58 %\n"
     ]
    }
   ],
   "source": [
    "print(\"今日盈亏金额：\", a, \"元\")     # 基础输出\n",
    "print(\"今日涨跌幅：\", b, \"%\")"
   ]
  },
  {
   "cell_type": "code",
   "execution_count": null,
   "id": "3992c0ef-72d0-41e4-841e-19594cffbe57",
   "metadata": {},
   "outputs": [],
   "source": []
  }
 ],
 "metadata": {
  "kernelspec": {
   "display_name": "Python 3 (ipykernel)",
   "language": "python",
   "name": "python3"
  },
  "language_info": {
   "codemirror_mode": {
    "name": "ipython",
    "version": 3
   },
   "file_extension": ".py",
   "mimetype": "text/x-python",
   "name": "python",
   "nbconvert_exporter": "python",
   "pygments_lexer": "ipython3",
   "version": "3.13.0"
  }
 },
 "nbformat": 4,
 "nbformat_minor": 5
}
